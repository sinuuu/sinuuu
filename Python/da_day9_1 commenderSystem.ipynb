{
 "cells": [
  {
   "cell_type": "code",
   "execution_count": 13,
   "metadata": {},
   "outputs": [],
   "source": [
    "critics={\n",
    "    'BTS':{'생일':5, '바울':4, '할로윈':1.5},\n",
    "    '손흥민':{'바울':5, '할로윈':2},\n",
    "    '조용필':{'생일':2.5, '바울':2, '할로윈':1},\n",
    "    '나훈아':{'생일':3.5, '바울':4, '할로윈':5}\n",
    "}"
   ]
  },
  {
   "cell_type": "code",
   "execution_count": 14,
   "metadata": {},
   "outputs": [
    {
     "data": {
      "text/plain": [
       "{'BTS': {'생일': 5, '바울': 4, '할로윈': 1.5},\n",
       " '손흥민': {'바울': 5, '할로윈': 2},\n",
       " '조용필': {'생일': 2.5, '바울': 2, '할로윈': 1},\n",
       " '나훈아': {'생일': 3.5, '바울': 4, '할로윈': 5}}"
      ]
     },
     "execution_count": 14,
     "metadata": {},
     "output_type": "execute_result"
    }
   ],
   "source": [
    "critics\n",
    "# 손흥민이가 생일 영화를 봤다면 평점으로 몇점을 줄것인지 예측해보자\n",
    "# 사용자 기반 CF 활용하여 구해보자"
   ]
  },
  {
   "cell_type": "code",
   "execution_count": 15,
   "metadata": {},
   "outputs": [
    {
     "data": {
      "text/plain": [
       "1.5"
      ]
     },
     "execution_count": 15,
     "metadata": {},
     "output_type": "execute_result"
    }
   ],
   "source": [
    "# collaborative filtering(CF) : 여러 사람들로부터 얻은 정보에 따라 각각의 사용자들의 관심사를 자동으로 예측\n",
    "# 아이템 기반 : 데이터가 부족한 경우(사용자 수가 적을 때 사용)\n",
    "# 사용자 기반 : 데이터가 있는 경우(일반적)\n",
    "\n",
    "# critics['BTS']\n",
    "# critics.get('BTS') # get 함수 : 키(BTS)가 존재할 경우에는 위 문장과 같은 의미로 해석\n",
    "\n",
    "# critics['AOA']\n",
    "# print(critics.get('AOA')) # 오류발생 안하며, None이 출력됨\n",
    "\n",
    "# critics['AOA'] # 키(AOA)가 존재하지 않아서 오류 발생\n",
    "# print(critics.get('AOA'))\n",
    "\n",
    "\n",
    "# critics라는 변수, get이라는 함수에도 .get을 써서 출력 가능\n",
    "critics.get('BTS').get('할로윈')"
   ]
  },
  {
   "cell_type": "code",
   "execution_count": 16,
   "metadata": {},
   "outputs": [
    {
     "name": "stdout",
     "output_type": "stream",
     "text": [
      "3.1622776601683795\n"
     ]
    },
    {
     "data": {
      "text/plain": [
       "3.1622776601683795"
      ]
     },
     "execution_count": 16,
     "metadata": {},
     "output_type": "execute_result"
    }
   ],
   "source": [
    "# 거리를 구하여(피타고라스 정리) 두 사람간의 유사도 계산\n",
    "# => 계신값이 작으면 작을수록, 두 사람간의 유사도 높다(거리가 가까우니까)\n",
    "# 1) (x1,y1), (x2,y2)\n",
    "# 거리 => ((x2-x1)제곱 +((y2-y1)제곱) 제곱근\n",
    "    \n",
    "    \n",
    "# math : 수학 관련 다양한 함수들이 저장되어 있음\n",
    "from math import sqrt\n",
    "# 두점 사이의 거리 : sqrt(pow(3,2)+pow(1,2))\n",
    "# 3의제곱 + 1의제곱의 합에 대한 제곱근을 취함\n",
    "\n",
    "def sim(i,j): # sim : 두 점에 대한 좌표를 전달받아 각각의 축에 전달\n",
    "    return sqrt(pow(i,2)+pow(j,2))\n",
    "print(sim(3,1))\n",
    "\n",
    "\n",
    "\n",
    "# 조용필와 손흥민 간의 거리 구하기\n",
    "# ★★ 피타고라스는 x축과 y축, 2개의 데이터에서만 사용 가능!\n",
    "\n",
    "#     'BTS':{'생일':5, '바울':4, '할로윈':1.5},\n",
    "#     '손흥민':{'바울':5, '할로윈':2},\n",
    "\n",
    "var1=critics['조용필']['바울']-critics['손흥민']['바울']  # -> x축\n",
    "var2=critics['조용필']['할로윈']-critics['손흥민']['할로윈']  # -> y축\n",
    "sim(var1,var2)\n",
    "\n",
    "# [결과] 손흥민과 가까운 사람은 'BTS', 조용필과 나훈아와의 거리는 동일"
   ]
  },
  {
   "cell_type": "code",
   "execution_count": 17,
   "metadata": {},
   "outputs": [
    {
     "name": "stdout",
     "output_type": "stream",
     "text": [
      "BTS 와 손흥민과의 유사도 : 0.4721359549995794\n",
      "조용필 와 손흥민과의 유사도 : 0.2402530733520421\n",
      "나훈아 와 손흥민과의 유사도 : 0.2402530733520421\n"
     ]
    }
   ],
   "source": [
    "# 손흥민과 다른 사람들과의 거리 구하기\n",
    "\n",
    "for i in critics:\n",
    "    if i != \"손흥민\": # 자기자신은 제외(나와 다른 사람간의 유사도를 구하므로)\n",
    "        var1=critics[i]['바울']-critics['손흥민']['바울']\n",
    "        var2=critics[i]['할로윈']-critics['손흥민']['할로윈']\n",
    "#         print(i,\"와 손흥민과의 거리 :\",sim(var1,var2))\n",
    "        print(i,\"와 손흥민과의 유사도 :\",1/(1+sim(var1,var2)))\n",
    "        # 1/(1+sim(var1,var2) 값 => 0 : 낮, 1 : 높\n",
    "        \n",
    "        \n",
    "# 컬럼별로 데이터의 포함범위가 다른 경우가 있음 (하나는 0~5점, 다른 하나는 0~10점 등등)\n",
    "# 이런 경우에 '정규화' 또는 표준화' 필요!\n",
    "\n",
    "\n",
    "# 축이 2개인 경우에만 거리를 구할 수 있다! 세 개 이상이면 불가!"
   ]
  },
  {
   "cell_type": "code",
   "execution_count": 21,
   "metadata": {},
   "outputs": [
    {
     "data": {
      "text/plain": [
       "0.2402530733520421"
      ]
     },
     "execution_count": 21,
     "metadata": {},
     "output_type": "execute_result"
    }
   ],
   "source": [
    "def sim_distance(data,name1,name2): #sim_distance : 유사도 검색\n",
    "    sum=0\n",
    "    for i in data[name1]: # 영화 제목이 i변수에 저장, {'생일':3.5, '바울':4, '할로윈':5}\n",
    "        if i in data[name2]: # '같은 영화를 봤다면' \n",
    "#                               나훈아는 봤는데 손흥민은 '생일'이란 영화를 보지 않았음 => 결과값에서 제외\n",
    "#             print(data[name1][i])\n",
    "#             print(data[name2][i])\n",
    "#             print(\"=\"*50)\n",
    "            \n",
    "            sum+=pow(data[name1][i]-data[name2][i],2)\n",
    "        #for j in data[name2]: # 영화 제목이 j변수에 저장, {'바울':5, '할로윈':2},\n",
    "          \n",
    "            \n",
    "    return 1/(1+sqrt(sum))\n",
    "sim_distance(critics,\"나훈아\",'손흥민') # 나훈아와 손흥민 간의 유클리드안 거리"
   ]
  },
  {
   "cell_type": "code",
   "execution_count": 32,
   "metadata": {},
   "outputs": [
    {
     "name": "stdout",
     "output_type": "stream",
     "text": [
      "[(0.4721359549995794, 'BTS'), (0.2402530733520421, '조용필'), (0.2402530733520421, '나훈아')]\n"
     ]
    }
   ],
   "source": [
    "# 딕셔너리 전체에서 가장 유사도가 비슷한 큰 사람을 검색(상위 몇 명)\n",
    "\n",
    "def top_match(data,name,index=3,sf=sim_distance): # 함수 이름을 변수에도 저장할 수 있음(호출가능)\n",
    "    myList=[]\n",
    "    for i in data:  # i에는 이름이 저장(name)\n",
    "        if name !=i: # 이름이 같지 않은 것 빼라(자기 자신인 손흥민은 제외)\n",
    "            myList.append((sf(data,name,i),i))\n",
    "#             sf(data,name,i) # name : 손흥민, i: 나훈아, 조용필, BTS...\n",
    "    myList.sort() # 오름차순\n",
    "    myList.reverse() # 내림차순\n",
    "    return myList[:index]\n",
    "\n",
    "print(top_match(critics,\"손흥민\",3)) # 손흥민과 가장 가까운 두 사람만 출력\n",
    "# top_match : 손흥민을 제외한 나머지 사람들과의 유사도를 출력(내림차순 정렬)"
   ]
  },
  {
   "cell_type": "code",
   "execution_count": 77,
   "metadata": {},
   "outputs": [],
   "source": [
    "# 시각화를 하는 함수 기입\n",
    "import matplotlib.pyplot as plt\n",
    "def myBar(score,names):\n",
    "    s=range(len(score))  # s=[0,1,2]\n",
    "    plt.barh(s,score,height=0.5,color='r')\n",
    "    plt.yticks(s,names)\n",
    "    plt.xlabel(\"유사도\")\n",
    "    plt.ylabel(\"이름\")\n",
    "    plt.title(\"손흥민과 다른 사람들간의 유사도\")\n",
    "    plt.show()"
   ]
  },
  {
   "cell_type": "code",
   "execution_count": 78,
   "metadata": {},
   "outputs": [
    {
     "data": {
      "image/png": "[encoded data removed]",
      "text/plain": [
       "<Figure size 432x288 with 1 Axes>"
      ]
     },
     "metadata": {},
     "output_type": "display_data"
    }
   ],
   "source": [
    "# top_match 함수의 수행결과를 시각화하기\n",
    "# x축에는 유사도, y축에는 이름으로 구성된 수평 막대바로 출력\n",
    "li=top_match(critics,\"손흥민\",3)\n",
    "\n",
    "# 분리작업 : 유사도. 이름값을 따로 리스트로 만들어주어야 한다\n",
    "score=[]\n",
    "names=[]\n",
    "for i in li:\n",
    "    score.append(i[0])\n",
    "    names.append(i[1])\n",
    "myBar(score,names)"
   ]
  },
  {
   "cell_type": "code",
   "execution_count": 146,
   "metadata": {},
   "outputs": [],
   "source": [
    "# 상관게수 적용하기\n",
    "\n",
    "critics = {\n",
    "    '조용필': {\n",
    "        '택시운전사': 2.5,\n",
    "        '겨울왕국': 3.5,\n",
    "        '리빙라스베가스': 3.0,\n",
    "        '넘버3': 3.5,\n",
    "        '사랑과전쟁': 2.5,\n",
    "        '세계대전': 3.0,\n",
    "    },\n",
    "    'BTS': {\n",
    "        '택시운전사': 1.0,\n",
    "        '겨울왕국': 4.5,\n",
    "        '리빙라스베가스': 0.5,\n",
    "        '넘버3': 1.5,\n",
    "        '사랑과전쟁': 4.5,\n",
    "        '세계대전': 5.0,\n",
    "    },\n",
    "    '블핑': {\n",
    "        '택시운전사': 3.0,\n",
    "        '겨울왕국': 3.5,\n",
    "        '리빙라스베가스': 1.5,\n",
    "        '넘버3': 5.0,\n",
    "        '세계대전': 3.0,\n",
    "        '인어공주': 3.5,\n",
    "    },\n",
    "    '싸이': {\n",
    "        '택시운전사': 2.5,\n",
    "        '겨울왕국': 3.0,\n",
    "        '넘버3': 3.5,\n",
    "        '세계대전': 4.0,\n",
    "    },\n",
    "    '장범준': {\n",
    "        '겨울왕국': 3.5,\n",
    "        '리빙라스베가스': 3.0,\n",
    "        '세계대전': 4.5,\n",
    "        '넘버3': 4.0,\n",
    "        '사랑과전쟁': 2.5,\n",
    "    },\n",
    "    '있지': {\n",
    "        '택시운전사': 3.0,\n",
    "        '겨울왕국': 4.0,\n",
    "        '리빙라스베가스': 2.0,\n",
    "        '넘버3': 3.0,\n",
    "        '세계대전': 3.5,\n",
    "        '사랑과전쟁': 2.0,\n",
    "    },\n",
    "    '백지영': {\n",
    "        '택시운전사': 3.0,\n",
    "        '겨울왕국': 4.0,\n",
    "        '세계대전': 3.0,\n",
    "        '넘버3': 5.0,\n",
    "        '사랑과전쟁': 3.5,\n",
    "    },\n",
    "    '이은미': {'겨울왕국': 4.5, '사랑과전쟁': 1.0,\n",
    "             '넘버3': 4.0}\n",
    "}"
   ]
  },
  {
   "cell_type": "code",
   "execution_count": 147,
   "metadata": {
    "scrolled": false
   },
   "outputs": [
    {
     "data": {
      "text/plain": [
       "[0, 6, 0, 5]"
      ]
     },
     "execution_count": 147,
     "metadata": {},
     "output_type": "execute_result"
    },
    {
     "data": {
      "image/png": "[encoded data removed]",
      "text/plain": [
       "<Figure size 1008x576 with 1 Axes>"
      ]
     },
     "metadata": {},
     "output_type": "display_data"
    }
   ],
   "source": [
    "# scatter plot 이용\n",
    "\n",
    "plt.figure(figsize=(14,8))\n",
    "plt.plot([1,2,3],[1,2,3],'g^')  # (1,1), (2,2), (3,3) 위치에 점을 출력해라 \n",
    "plt.text(1,1,'홍길동')\n",
    "plt.text(2,2,'홍길동')\n",
    "plt.text(3,3,'홍길동')  # 각각의 점마다 홍길동이 생성\n",
    "plt.axis([0,6,0,5]) # x축은 0~6까지, y축은 0~5까지\n",
    "# 데이터의 범위에 fit하게 박스가 만들어짐 -> axis를 직접 지정"
   ]
  },
  {
   "cell_type": "code",
   "execution_count": 148,
   "metadata": {
    "scrolled": true
   },
   "outputs": [
    {
     "data": {
      "image/png": "[encoded data removed]",
      "text/plain": [
       "<Figure size 1008x576 with 1 Axes>"
      ]
     },
     "metadata": {},
     "output_type": "display_data"
    }
   ],
   "source": [
    "# 두 사람이 영화 점수를 얼마나 주었는지? (x축 BTS, y축 블핑 = 공통된 영화 5개 점으로!)\n",
    "def drawGraph(data,name1,name2): # critics를 data로 BTS를 name1로,,,\n",
    "    plt.figure(figsize=(14,8))\n",
    "    li=[] # BTS 영화 평점을 저장하기 위한 리스트\n",
    "    li2=[] # 블핑 영화 평점을 저장하기 위한 리스트\n",
    "    \n",
    "    for i in data[name1]: # BTS가 본 영화(i)를\n",
    "        if i in data[name2]: # 블핑이 봤다면\n",
    "            li.append(data[name1][i]) # BTS가 본 영화의 평점이 추가\n",
    "            li2.append(data[name2][i]) # 블핑이 본 영화의 평점이 추가\n",
    "            plt.text(data[name1][i],data[name2][i],i) # BTS가 준 영화 평점, 블핑이 준 영화 평점 , 영화이름\n",
    "                                         \n",
    "    plt.plot(li,li2,'ro') \n",
    "    plt.xlabel(name1)\n",
    "    plt.ylabel(name2)\n",
    "    \n",
    "drawGraph(critics,\"BTS\",\"블핑\")"
   ]
  },
  {
   "cell_type": "code",
   "execution_count": 149,
   "metadata": {},
   "outputs": [
    {
     "data": {
      "text/plain": [
       "0.19047619047619055"
      ]
     },
     "execution_count": 149,
     "metadata": {},
     "output_type": "execute_result"
    }
   ],
   "source": [
    "# 피어스 상관관계 분석\n",
    "\n",
    "def sim_person(data,name1,name2):\n",
    "    sumX=0 # X의 합(BTS와 블핑이 모두 본 BTS 평점들의 합)\n",
    "    sumY=0 # Y의 합(BTS와 블핑이 모두 본 블핑 평점들의 합)\n",
    "    \n",
    "    sumPowX=0 # X제곱의 합\n",
    "    sumPowY=0 # Y제곱의 합\n",
    "    sumXY=0 # x*y의 합\n",
    "    count=0 # 영화의 합\n",
    "    \n",
    "    for i in data[name1]: # BTS가 본 영화 제목\n",
    "        if i in data[name2]: # BTS가 본 영화를 블핑도 봤다면\n",
    "            sumX+=data[name1][i] # BTS가 본 영화 평점\n",
    "            sumY+=data[name2][i] # 블핑이 본 영화 평점\n",
    "            sumPowX+=pow(data[name1][i],2)\n",
    "            sumPowY+=pow(data[name2][i],2)\n",
    "            sumXY+=data[name1][i]*data[name2][i] # ∑XY에 해당\n",
    "            count+=1\n",
    "    return (sumXY-(sumX*sumY)/count)/sqrt((sumPowX-pow(sumX,2)/count)*(sumPowY-pow(sumY,2)/count))\n",
    "\n",
    "sim_person(critics,\"BTS\",\"블핑\")"
   ]
  },
  {
   "cell_type": "code",
   "execution_count": 150,
   "metadata": {},
   "outputs": [],
   "source": [
    "def top_match(data,name,index=3,sf=sim_distance): # 함수 이름을 변수에도 저장할 수 있음(호출가능)\n",
    "    myList=[]\n",
    "    for i in data:  # i에는 이름이 저장(name)\n",
    "        if name !=i: # 이름이 같지 않은 것 빼라(자기 자신인 손흥민은 제외)\n",
    "            myList.append((sf(data,name,i),i))\n",
    "#             sf(data,name,i) # name : 손흥민, i: 나훈아, 조용필, BTS...\n",
    "    myList.sort() # 오름차순\n",
    "    myList.reverse() # 내림차순\n",
    "    return myList[:index]"
   ]
  },
  {
   "cell_type": "code",
   "execution_count": 151,
   "metadata": {},
   "outputs": [
    {
     "data": {
      "text/plain": [
       "[(0.5358983848622454, '장범준'),\n",
       " (0.4721359549995794, '조용필'),\n",
       " (0.43050087404306037, '있지'),\n",
       " (0.38742588672279304, '이은미'),\n",
       " (0.3405424265831667, '블핑'),\n",
       " (0.32037724101704074, '백지영'),\n",
       " (0.2449655295864104, 'BTS')]"
      ]
     },
     "execution_count": 151,
     "metadata": {},
     "output_type": "execute_result"
    }
   ],
   "source": [
    "#sim_person(critics,\"BTS,\"있지\")\n",
    "\n",
    "# 싸이\n",
    "top_match(critics,\"싸이\",7)"
   ]
  },
  {
   "cell_type": "markdown",
   "metadata": {},
   "source": [
    "** 예상평점 = 상관계수 * 상대방의 영화평점\n",
    "ex)  2.4    =   0.6    *     4 \n",
    "      5     =    1     *     5\n",
    "     7.4 / 2  => 3.7(평균, 여러사람들의 데이터 반영)"
   ]
  },
  {
   "cell_type": "code",
   "execution_count": null,
   "metadata": {},
   "outputs": [],
   "source": []
  }
 ],
 "metadata": {
  "kernelspec": {
   "display_name": "Python 3",
   "language": "python",
   "name": "python3"
  },
  "language_info": {
   "codemirror_mode": {
    "name": "ipython",
    "version": 3
   },
   "file_extension": ".py",
   "mimetype": "text/x-python",
   "name": "python",
   "nbconvert_exporter": "python",
   "pygments_lexer": "ipython3",
   "version": "3.6.5"
  }
 },
 "nbformat": 4,
 "nbformat_minor": 2
}
