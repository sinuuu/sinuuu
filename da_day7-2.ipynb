{
 "cells": [
  {
   "cell_type": "code",
   "execution_count": 10,
   "metadata": {},
   "outputs": [
    {
     "data": {
      "text/plain": [
       "array([0, 1, 1])"
      ]
     },
     "execution_count": 10,
     "metadata": {},
     "output_type": "execute_result"
    }
   ],
   "source": [
    "import numpy as np\n",
    "ar=np.array([0,1,2,3]) # 리스트를 넣으면 넘파이의 배열을 만들어주는 함수\n",
    "ar\n",
    "ar2=np.array([0,1,2.5]) # 데이터 타입이 다름(int와 float), 그렇지만 정수가 -> 실수로 자동 형변환되어 error가 나지 않음\n",
    "ar2\n",
    "ar3=np.array([0,'a',1]) # 숫자와 문자가 섞여있음 -> 모두 문자형으로 자동 형 변환\n",
    "ar3\n",
    "ar4=np.array([0,'a',1,True,3.14]) # 정수, 불린, 실수, 문자 -> 다 문자 타입으로 바뀐다(하나만 다르더라도)\n",
    "ar4\n",
    "ar5=np.array([0,1,True,3.14]) # 정수, 불린, 실수 -> 모두 실수로 자동 형 변환\n",
    "ar5\n",
    "ar6=np.array([0,1,True]) # 정수, 불린 -> 모두 정수로 자동 형 변환\n",
    "ar6"
   ]
  },
  {
   "cell_type": "code",
   "execution_count": 11,
   "metadata": {},
   "outputs": [
    {
     "data": {
      "text/plain": [
       "numpy.ndarray"
      ]
     },
     "execution_count": 11,
     "metadata": {},
     "output_type": "execute_result"
    }
   ],
   "source": [
    "type(ar)\n",
    "# n차원 데이터를 array로 만들어 작업"
   ]
  },
  {
   "cell_type": "code",
   "execution_count": 15,
   "metadata": {},
   "outputs": [
    {
     "data": {
      "text/plain": [
       "[0, 2, 4, 6, 8, 10, 12, 14, 16, 18]"
      ]
     },
     "execution_count": 15,
     "metadata": {},
     "output_type": "execute_result"
    }
   ],
   "source": [
    "# 백터화 연산 : 배열(array)의 각 요소에 대한 반복 연산을 하나의 명령어로 빠르게 처리(1차원 데이터)\n",
    "\n",
    "data=list(range(0,10))\n",
    "# [파이썬 모드] 데이터 배열의 값을 모두 2배한 다음 answer에 저장한 후 출력\n",
    "answer=[]\n",
    "for d in data:\n",
    "    answer.append(d*2) # 10번 문장을 수행\n",
    "answer"
   ]
  },
  {
   "cell_type": "code",
   "execution_count": 17,
   "metadata": {},
   "outputs": [
    {
     "data": {
      "text/plain": [
       "array([ 0,  2,  4,  6,  8, 10, 12, 14, 16, 18])"
      ]
     },
     "execution_count": 17,
     "metadata": {},
     "output_type": "execute_result"
    }
   ],
   "source": [
    "# [넘파이 모드] 2배 연산\n",
    "x=np.array(data)\n",
    "x\n",
    "x*2"
   ]
  },
  {
   "cell_type": "code",
   "execution_count": null,
   "metadata": {},
   "outputs": [],
   "source": [
    "# 그럼 리스트는 안되나?"
   ]
  },
  {
   "cell_type": "code",
   "execution_count": 21,
   "metadata": {},
   "outputs": [
    {
     "name": "stdout",
     "output_type": "stream",
     "text": [
      "[0, 1, 2, 3, 4, 5, 6, 7, 8, 9, 0, 1, 2, 3, 4, 5, 6, 7, 8, 9]\n",
      "==================================================\n",
      "[ 0  2  4  6  8 10 12 14 16 18]\n"
     ]
    }
   ],
   "source": [
    "print(data*2) #  데이터에 리스트를 2번 출력해라([0, 1, 2, 3, 4, 5, 6, 7, 8, 9, 0, 1, 2, 3, 4, 5, 6, 7, 8, 9])\n",
    "print(\"=\"*50)\n",
    "print(x*2) # x배열의 각 요소값을 2배해라([ 0  2  4  6  8 10 12 14 16 18])"
   ]
  },
  {
   "cell_type": "code",
   "execution_count": 31,
   "metadata": {},
   "outputs": [
    {
     "data": {
      "text/plain": [
       "array([False,  True, False])"
      ]
     },
     "execution_count": 31,
     "metadata": {},
     "output_type": "execute_result"
    }
   ],
   "source": [
    "# [넘파이 연산]\n",
    "\n",
    "a=np.array([1,2,3])\n",
    "b=np.array([10,20,30])\n",
    "2*a+b # 요소 간 연산이 이루어짐!\n",
    "a==2 # 각각의 요소에 2가 있는지 1:1로 대응 ---->1=2, 2=2, 3=2 비교\n",
    "b>10\n",
    "(a==2) & (b>10) # &로 묶여져 있어서 양쪽의 결과가 모두 참일때만 True(True & True=True,제외하고는 모두 False)"
   ]
  },
  {
   "cell_type": "code",
   "execution_count": 29,
   "metadata": {},
   "outputs": [
    {
     "data": {
      "text/plain": [
       "False"
      ]
     },
     "execution_count": 29,
     "metadata": {},
     "output_type": "execute_result"
    }
   ],
   "source": [
    "# [리스트 연산]\n",
    "\n",
    "a2=[1,2,3]\n",
    "b2=[4,5,6]\n",
    "a2*2+b2 # 결합이 되어버림, 리스트에서는 *가 반복,ㅡ +가 이어서(붙여서) 연결\n",
    "a2==2 # a2는 2가 아니고, [1,2,3]이다---> [1,2,3]=2 비교"
   ]
  },
  {
   "cell_type": "code",
   "execution_count": 36,
   "metadata": {},
   "outputs": [
    {
     "name": "stdout",
     "output_type": "stream",
     "text": [
      "[[0 1 2]\n",
      " [3 4 5]]\n"
     ]
    },
    {
     "data": {
      "text/plain": [
       "3"
      ]
     },
     "execution_count": 36,
     "metadata": {},
     "output_type": "execute_result"
    }
   ],
   "source": [
    "# [배열을 이용한 행렬 구조]\n",
    "\n",
    "# 0차원 array(배열) : 스칼라\n",
    "# 1차원 array(배열) : 백터\n",
    "# 2차원 array(배열) : 행렬\n",
    "\n",
    "c=np.array([[0,1,2],[3,4,5]]) #2차원 배열(행렬)\n",
    "# -> 안쪽 리스트의 갯수(열), 바깥쪽 리스트의 갯수(행) -> 2*3배열\n",
    "print(c)\n",
    "len(c) # 행의 개수\n",
    "c[0] # 첫번째 행 출력([0, 1, 2])\n",
    "len(c[0]) # 첫번째 행 길이"
   ]
  },
  {
   "cell_type": "code",
   "execution_count": 39,
   "metadata": {},
   "outputs": [
    {
     "data": {
      "text/plain": [
       "array([[ 1,  2,  3,  4],\n",
       "       [ 5,  6,  7,  8],\n",
       "       [ 9, 10, 11, 12],\n",
       "       [13, 14, 15, 16],\n",
       "       [17, 18, 19, 20],\n",
       "       [21, 22, 23, 24]])"
      ]
     },
     "execution_count": 39,
     "metadata": {},
     "output_type": "execute_result"
    }
   ],
   "source": [
    "# [기본적인 리스트 표현방법]\n",
    "\n",
    "d=np.array(list(range(1,25)))\n",
    "d\n",
    "d.reshape(6,4) # 행 6개, 열 4개로 출력"
   ]
  },
  {
   "cell_type": "code",
   "execution_count": 40,
   "metadata": {},
   "outputs": [
    {
     "data": {
      "text/plain": [
       "array([[[ 1,  2,  3,  4],\n",
       "        [ 5,  6,  7,  8],\n",
       "        [ 9, 10, 11, 12]],\n",
       "\n",
       "       [[13, 14, 15, 16],\n",
       "        [17, 18, 19, 20],\n",
       "        [21, 22, 23, 24]]])"
      ]
     },
     "execution_count": 40,
     "metadata": {},
     "output_type": "execute_result"
    }
   ],
   "source": [
    "d=d.reshape(2,3,4) # 2는 면, 3은 행, 4는 열 => 3차원 구조\n",
    "d"
   ]
  },
  {
   "cell_type": "code",
   "execution_count": 41,
   "metadata": {},
   "outputs": [
    {
     "data": {
      "text/plain": [
       "2"
      ]
     },
     "execution_count": 41,
     "metadata": {},
     "output_type": "execute_result"
    }
   ],
   "source": [
    "# 3차원 배열의 행, 열, 깊이(2,3,4)\n",
    "\n",
    "len(d) # 가장 바깥쪽에 있는 대괄호, 행의 개수"
   ]
  },
  {
   "cell_type": "code",
   "execution_count": 42,
   "metadata": {},
   "outputs": [
    {
     "data": {
      "text/plain": [
       "3"
      ]
     },
     "execution_count": 42,
     "metadata": {},
     "output_type": "execute_result"
    }
   ],
   "source": [
    "len(d[0]) # 열의 개수"
   ]
  },
  {
   "cell_type": "code",
   "execution_count": 43,
   "metadata": {},
   "outputs": [
    {
     "data": {
      "text/plain": [
       "4"
      ]
     },
     "execution_count": 43,
     "metadata": {},
     "output_type": "execute_result"
    }
   ],
   "source": [
    "len(d[0][0]) # 깊이"
   ]
  },
  {
   "cell_type": "code",
   "execution_count": 46,
   "metadata": {},
   "outputs": [
    {
     "name": "stdout",
     "output_type": "stream",
     "text": [
      "1\n"
     ]
    },
    {
     "data": {
      "text/plain": [
       "(3,)"
      ]
     },
     "execution_count": 46,
     "metadata": {},
     "output_type": "execute_result"
    }
   ],
   "source": [
    "a=np.array([1,2,3])\n",
    "print(a.ndim) # 1차원, dim : 차원\n",
    "a.shape # shape : 배열의 크기"
   ]
  },
  {
   "cell_type": "code",
   "execution_count": 47,
   "metadata": {},
   "outputs": [
    {
     "name": "stdout",
     "output_type": "stream",
     "text": [
      "2\n",
      "(2, 3)\n"
     ]
    }
   ],
   "source": [
    "c=np.array([[0,1,2],[3,4,5]])\n",
    "print(c.ndim)\n",
    "print(c.shape)"
   ]
  },
  {
   "cell_type": "code",
   "execution_count": 50,
   "metadata": {},
   "outputs": [
    {
     "data": {
      "text/plain": [
       "(2, 3, 4)"
      ]
     },
     "execution_count": 50,
     "metadata": {},
     "output_type": "execute_result"
    }
   ],
   "source": [
    "d.ndim # 3차원이라 3\n",
    "d.shape"
   ]
  },
  {
   "cell_type": "code",
   "execution_count": 52,
   "metadata": {},
   "outputs": [
    {
     "data": {
      "text/plain": [
       "4"
      ]
     },
     "execution_count": 52,
     "metadata": {},
     "output_type": "execute_result"
    }
   ],
   "source": [
    "a=np.array([0,1,2,3,4])\n",
    "a[2] # 2번 인덱스\n",
    "a[-1] # 마지막 1번째 인덱스"
   ]
  },
  {
   "cell_type": "code",
   "execution_count": 57,
   "metadata": {},
   "outputs": [
    {
     "data": {
      "text/plain": [
       "5"
      ]
     },
     "execution_count": 57,
     "metadata": {},
     "output_type": "execute_result"
    }
   ],
   "source": [
    "# 다차원일 때, 행 열 지정\n",
    "c=np.array([[0,1,2],[3,4,5]]) \n",
    "c[0,1]\n",
    "c[1,2]\n",
    "c[-1] # 마지막 행을 의미\n",
    "c[-1,-1] # 마지막 행의 마지막 열, c[1,2]와 같음"
   ]
  },
  {
   "cell_type": "code",
   "execution_count": 59,
   "metadata": {},
   "outputs": [
    {
     "data": {
      "text/plain": [
       "array([4, 5])"
      ]
     },
     "execution_count": 59,
     "metadata": {},
     "output_type": "execute_result"
    }
   ],
   "source": [
    "# 두 번째 열 2,4를 추출하고 싶을 때\n",
    "c[:,1]\n",
    "c[1,1:] # 두번째 행의 두번째 열부터 마지막 열까지"
   ]
  },
  {
   "cell_type": "code",
   "execution_count": 62,
   "metadata": {},
   "outputs": [
    {
     "data": {
      "text/plain": [
       "array([[0, 1]])"
      ]
     },
     "execution_count": 62,
     "metadata": {},
     "output_type": "execute_result"
    }
   ],
   "source": [
    "c[:1,] # 0번 인덱스 행만 추출. [0,1,2]\n",
    "c[:1,:1] # 0번 인덱스 행, 0번 인덱스 열 추출\n",
    "c[:1,:2] # 0번 인덱스 행, 0 ~ 2-1열 번 인덱스 열 추출"
   ]
  },
  {
   "cell_type": "code",
   "execution_count": 63,
   "metadata": {},
   "outputs": [],
   "source": [
    "# 파이썬 불린 추출과 같이, 넘파이에서도 불린 추출 가능"
   ]
  },
  {
   "cell_type": "code",
   "execution_count": 69,
   "metadata": {},
   "outputs": [
    {
     "data": {
      "text/plain": [
       "array([0, 2])"
      ]
     },
     "execution_count": 69,
     "metadata": {},
     "output_type": "execute_result"
    }
   ],
   "source": [
    "a=np.array([0,1,2,3])\n",
    "idx=np.array([True,False,True,False])\n",
    "a[idx] # True에 해당하는 값만 추출, 데이터 갯수가 맞아야 함(길이가 맞아야!)\n",
    "# -> index error가 발생할 수 있으므로 주의!\n",
    "\n",
    "a%2 # 각각의 요소값을 2로 나눈 나머지\n",
    "a%2==0 # 불린으로 출력([ True, False,  True, False])\n",
    "a[a%2==0] # True에 해당하는 값만 추출 ([0, 2])"
   ]
  },
  {
   "cell_type": "code",
   "execution_count": 70,
   "metadata": {},
   "outputs": [
    {
     "data": {
      "text/plain": [
       "array([10, 30, 50])"
      ]
     },
     "execution_count": 70,
     "metadata": {},
     "output_type": "execute_result"
    }
   ],
   "source": [
    "a=np.array([10,20,30,40,50])\n",
    "idx=np.array([0,2,4])\n",
    "a[idx]"
   ]
  },
  {
   "cell_type": "code",
   "execution_count": 72,
   "metadata": {},
   "outputs": [],
   "source": [
    "# [문제]\n",
    "\n",
    "# m=np.array([[0,1,2,3,4],\n",
    "#            [5,6,7,8,9],\n",
    "#            [10,11,12,13,14]])\n",
    "# 이 행렬에서 값 7을 인덱싱한다\n",
    "# 이 행렬에서 값 14을 인덱싱한다\n",
    "# 이 행렬에서 배열 [6,7]을 슬라이싱한다\n",
    "# 이 행렬에서 배열 [7,12]을 슬라이싱한다\n",
    "# 이 행렬에서 배열 [[3,4],[8,9]]을 슬라이싱한다"
   ]
  },
  {
   "cell_type": "code",
   "execution_count": 83,
   "metadata": {},
   "outputs": [
    {
     "data": {
      "text/plain": [
       "array([0, 1, 2, 3, 4])"
      ]
     },
     "execution_count": 83,
     "metadata": {},
     "output_type": "execute_result"
    }
   ],
   "source": [
    "m=np.array([[0,1,2,3,4],\n",
    "           [5,6,7,8,9],\n",
    "           [10,11,12,13,14]])\n",
    "\n",
    "m[0]"
   ]
  },
  {
   "cell_type": "code",
   "execution_count": 99,
   "metadata": {},
   "outputs": [
    {
     "data": {
      "text/plain": [
       "7"
      ]
     },
     "execution_count": 99,
     "metadata": {},
     "output_type": "execute_result"
    }
   ],
   "source": [
    "m[1][2]\n",
    "m[-2][2]\n",
    "m[-2][-3]"
   ]
  },
  {
   "cell_type": "code",
   "execution_count": 188,
   "metadata": {},
   "outputs": [
    {
     "data": {
      "text/plain": [
       "14"
      ]
     },
     "execution_count": 188,
     "metadata": {},
     "output_type": "execute_result"
    }
   ],
   "source": [
    "m[2][4]\n",
    "# m[-4][0]"
   ]
  },
  {
   "cell_type": "code",
   "execution_count": null,
   "metadata": {},
   "outputs": [],
   "source": []
  },
  {
   "cell_type": "code",
   "execution_count": null,
   "metadata": {},
   "outputs": [],
   "source": []
  },
  {
   "cell_type": "code",
   "execution_count": 111,
   "metadata": {},
   "outputs": [],
   "source": [
    "a=np.array(list(range(1,13)))\n",
    "a\n",
    "a=a.reshape(3,4)"
   ]
  },
  {
   "cell_type": "code",
   "execution_count": 112,
   "metadata": {},
   "outputs": [
    {
     "data": {
      "text/plain": [
       "array([[ 1,  4],\n",
       "       [ 5,  8],\n",
       "       [ 9, 12]])"
      ]
     },
     "execution_count": 112,
     "metadata": {},
     "output_type": "execute_result"
    }
   ],
   "source": [
    "a[:,[True,False,False,True]] # 불린 형태로도 추출 가능하다"
   ]
  },
  {
   "cell_type": "code",
   "execution_count": 113,
   "metadata": {},
   "outputs": [
    {
     "data": {
      "text/plain": [
       "array([[ 1,  2,  3,  4],\n",
       "       [ 9, 10, 11, 12]])"
      ]
     },
     "execution_count": 113,
     "metadata": {},
     "output_type": "execute_result"
    }
   ],
   "source": [
    "a[[True,False,True],:]"
   ]
  },
  {
   "cell_type": "code",
   "execution_count": 114,
   "metadata": {},
   "outputs": [
    {
     "data": {
      "text/plain": [
       "array([[ 9, 10, 11, 12],\n",
       "       [ 1,  2,  3,  4],\n",
       "       [ 5,  6,  7,  8]])"
      ]
     },
     "execution_count": 114,
     "metadata": {},
     "output_type": "execute_result"
    }
   ],
   "source": [
    "# 위치를 지정할 때 수치 입력(먼저 추출하고 싶을 때)\n",
    "a[[2,0,1],:]"
   ]
  },
  {
   "cell_type": "code",
   "execution_count": 115,
   "metadata": {},
   "outputs": [
    {
     "data": {
      "text/plain": [
       "dtype('int32')"
      ]
     },
     "execution_count": 115,
     "metadata": {},
     "output_type": "execute_result"
    }
   ],
   "source": [
    "x=np.array([1,2,3])\n",
    "x.dtype # dtype : 데이터 타입을 알려주는 속성, 저장되어 있는 타입을 알 수 있다\n",
    "x=np.array([1,1,2,1,3,1])\n",
    "x.dtype # x변수에 저장된 데이터의 타압 \n",
    "type(x) # x변수의 타입(자료구조, numpy, ndarray)"
   ]
  },
  {
   "cell_type": "code",
   "execution_count": 116,
   "metadata": {},
   "outputs": [
    {
     "data": {
      "text/plain": [
       "dtype('float64')"
      ]
     },
     "execution_count": 116,
     "metadata": {},
     "output_type": "execute_result"
    }
   ],
   "source": [
    "# 데이터 타입이 정수 + 실수가 섞여 있다면?\n",
    "x=np.array([1,2,3.14]) # 실수 형태로 출력\n",
    "x.dtype"
   ]
  },
  {
   "cell_type": "code",
   "execution_count": 120,
   "metadata": {},
   "outputs": [
    {
     "data": {
      "text/plain": [
       "array([1., 2., 3.])"
      ]
     },
     "execution_count": 120,
     "metadata": {},
     "output_type": "execute_result"
    }
   ],
   "source": [
    "# 데이터 타입 직접 지정해주기\n",
    "x=np.array([1,2,3],dtype=\"float\")\n",
    "x.dtype\n",
    "x\n",
    "\n",
    "# dtype을 명시하지 않으면 넘파이에서 내부적으로 추정하여 데이터 타입 지정 \n",
    "# dtype을 명시하면 명시된 타입으로 변환되어 저장"
   ]
  },
  {
   "cell_type": "code",
   "execution_count": 121,
   "metadata": {},
   "outputs": [
    {
     "data": {
      "text/plain": [
       "3.0"
      ]
     },
     "execution_count": 121,
     "metadata": {},
     "output_type": "execute_result"
    }
   ],
   "source": [
    "# 요소간의 덧셈\n",
    "x[0]+x[1]"
   ]
  },
  {
   "cell_type": "code",
   "execution_count": 122,
   "metadata": {},
   "outputs": [
    {
     "name": "stderr",
     "output_type": "stream",
     "text": [
      "C:\\Users\\B-8\\Anaconda3\\lib\\site-packages\\ipykernel_launcher.py:5: RuntimeWarning: divide by zero encountered in true_divide\n",
      "  \"\"\"\n",
      "C:\\Users\\B-8\\Anaconda3\\lib\\site-packages\\ipykernel_launcher.py:5: RuntimeWarning: invalid value encountered in true_divide\n",
      "  \"\"\"\n"
     ]
    },
    {
     "data": {
      "text/plain": [
       "array([  0.,  inf, -inf,  nan])"
      ]
     },
     "execution_count": 122,
     "metadata": {},
     "output_type": "execute_result"
    }
   ],
   "source": [
    "# infinite_number : 무한대를 나타내는 상수, 무한대 표현 가능\n",
    "\n",
    "x=np.array([0,1,-1,0])\n",
    "y=np.array([1,0,0,0])\n",
    "x/y\n",
    "\n",
    "# array([  0.,  inf(양의 무한대), -inf(음의 무한대,  nan])\n",
    "# inf : 무한대, NaN : 정의할 수 없는 숫자(Not a Number)"
   ]
  },
  {
   "cell_type": "code",
   "execution_count": 123,
   "metadata": {},
   "outputs": [
    {
     "name": "stderr",
     "output_type": "stream",
     "text": [
      "C:\\Users\\B-8\\Anaconda3\\lib\\site-packages\\ipykernel_launcher.py:1: RuntimeWarning: divide by zero encountered in log\n",
      "  \"\"\"Entry point for launching an IPython kernel.\n"
     ]
    },
    {
     "data": {
      "text/plain": [
       "-inf"
      ]
     },
     "execution_count": 123,
     "metadata": {},
     "output_type": "execute_result"
    }
   ],
   "source": [
    "np.log(0)"
   ]
  },
  {
   "cell_type": "code",
   "execution_count": 124,
   "metadata": {},
   "outputs": [
    {
     "data": {
      "text/plain": [
       "array([0., 0., 0.])"
      ]
     },
     "execution_count": 124,
     "metadata": {},
     "output_type": "execute_result"
    }
   ],
   "source": [
    "x=np.zeros(3) # array([0., 0., 0.]) /1차원\n",
    "x"
   ]
  },
  {
   "cell_type": "code",
   "execution_count": 130,
   "metadata": {},
   "outputs": [
    {
     "data": {
      "text/plain": [
       "dtype('float64')"
      ]
     },
     "execution_count": 130,
     "metadata": {},
     "output_type": "execute_result"
    }
   ],
   "source": [
    "x=np.zeros((2,3)) # 튜플 형태로 크기를 정의하여 다차원 배열을 만들 수 있다(2,3,4...차원)\n",
    "x\n",
    "x.dtype\n",
    "# 기본적으로 float으로 저장됨"
   ]
  },
  {
   "cell_type": "code",
   "execution_count": 131,
   "metadata": {},
   "outputs": [
    {
     "data": {
      "text/plain": [
       "array([[0, 0, 0],\n",
       "       [0, 0, 0]], dtype=int32)"
      ]
     },
     "execution_count": 131,
     "metadata": {},
     "output_type": "execute_result"
    }
   ],
   "source": [
    "# x=np.zeros((2,3),dtype=\"int\") \n",
    "x=np.zeros((2,3),dtype=\"i\")  # int를 축약해서 사용할 수 있음\n",
    "x\n",
    "# x.dtype"
   ]
  },
  {
   "cell_type": "code",
   "execution_count": 132,
   "metadata": {},
   "outputs": [
    {
     "data": {
      "text/plain": [
       "array([[0, 0, 0],\n",
       "       [0, 0, 0]], dtype=int32)"
      ]
     },
     "execution_count": 132,
     "metadata": {},
     "output_type": "execute_result"
    }
   ],
   "source": [
    "y=np.zeros_like(x) # x와 같은 구조(2행 3열)로 만들되 0으로 초기화하여 y로 저장\n",
    "y"
   ]
  },
  {
   "cell_type": "code",
   "execution_count": 133,
   "metadata": {},
   "outputs": [
    {
     "data": {
      "text/plain": [
       "array([[[1., 1., 1., 1.],\n",
       "        [1., 1., 1., 1.],\n",
       "        [1., 1., 1., 1.]],\n",
       "\n",
       "       [[1., 1., 1., 1.],\n",
       "        [1., 1., 1., 1.],\n",
       "        [1., 1., 1., 1.]]])"
      ]
     },
     "execution_count": 133,
     "metadata": {},
     "output_type": "execute_result"
    }
   ],
   "source": [
    "x=np.ones((2,3,4)) # 2행 3열 깊이4\n",
    "x"
   ]
  },
  {
   "cell_type": "code",
   "execution_count": 135,
   "metadata": {},
   "outputs": [
    {
     "data": {
      "text/plain": [
       "array([[1, 1, 1],\n",
       "       [1, 1, 1]], dtype=int32)"
      ]
     },
     "execution_count": 135,
     "metadata": {},
     "output_type": "execute_result"
    }
   ],
   "source": [
    "z=np.ones_like(y) # y와 동일한 구조에 값을 1로 채운다\n",
    "z\n",
    "# 1로 채우는데 어떤 구조를 가져와서 채울 것인가"
   ]
  },
  {
   "cell_type": "code",
   "execution_count": 137,
   "metadata": {},
   "outputs": [
    {
     "data": {
      "text/plain": [
       "array([0, 1, 2, 3, 4, 5, 6, 7, 8, 9])"
      ]
     },
     "execution_count": 137,
     "metadata": {},
     "output_type": "execute_result"
    }
   ],
   "source": [
    "# range 파이썬에서 리스트를 만들 때 사용 <=> 넘파이에서는 arange와 같음\n",
    "np.arange(10)"
   ]
  },
  {
   "cell_type": "code",
   "execution_count": 140,
   "metadata": {},
   "outputs": [
    {
     "data": {
      "text/plain": [
       "array([2, 5, 8])"
      ]
     },
     "execution_count": 140,
     "metadata": {},
     "output_type": "execute_result"
    }
   ],
   "source": [
    "np.arange(2,11,3) #11은 포함 안함"
   ]
  },
  {
   "cell_type": "code",
   "execution_count": 141,
   "metadata": {},
   "outputs": [
    {
     "data": {
      "text/plain": [
       "array([  0.,  25.,  50.,  75., 100.])"
      ]
     },
     "execution_count": 141,
     "metadata": {},
     "output_type": "execute_result"
    }
   ],
   "source": [
    "# linspace : 선형 구간 지정\n",
    "np.linspace(0,100,5) # 선형 구간을 5개로 분할한다는 의미"
   ]
  },
  {
   "cell_type": "code",
   "execution_count": 143,
   "metadata": {},
   "outputs": [
    {
     "data": {
      "text/plain": [
       "array([[1, 4],\n",
       "       [2, 5],\n",
       "       [3, 6]])"
      ]
     },
     "execution_count": 143,
     "metadata": {},
     "output_type": "execute_result"
    }
   ],
   "source": [
    "a=np.array([[1,2,3],[4,5,6]])\n",
    "a.T # Transpose : 행과 열을 교환(전치 행렬을 만들 때 사용)"
   ]
  },
  {
   "cell_type": "code",
   "execution_count": 147,
   "metadata": {},
   "outputs": [
    {
     "data": {
      "text/plain": [
       "array([ 0,  1,  2,  3,  4,  5,  6,  7,  8,  9, 10, 11])"
      ]
     },
     "execution_count": 147,
     "metadata": {},
     "output_type": "execute_result"
    }
   ],
   "source": [
    "a=np.arange(12)\n",
    "# a=np.array([ 0,  1,  2,  3,  4,  5,  6,  7,  8,  9, 10, 11]) 예1)\n",
    "# a=np.array(list(range(0,12)))  예2)\n",
    "a"
   ]
  },
  {
   "cell_type": "code",
   "execution_count": 150,
   "metadata": {},
   "outputs": [
    {
     "data": {
      "text/plain": [
       "array([[[ 0,  1,  2],\n",
       "        [ 3,  4,  5]],\n",
       "\n",
       "       [[ 6,  7,  8],\n",
       "        [ 9, 10, 11]]])"
      ]
     },
     "execution_count": 150,
     "metadata": {},
     "output_type": "execute_result"
    }
   ],
   "source": [
    "a.reshape(3,4)\n",
    "a.reshape(3,-1) # 행만 3개로 하면 되, 열(-1)은 너가 알아서 계산~\n",
    "\n",
    "a.reshape(2,2,3)\n",
    "a.reshape(2,2,-1) # 경우의 수가 많으면 error, 경우의 수가 1개인 경우만 자동으로 계산됨"
   ]
  },
  {
   "cell_type": "code",
   "execution_count": 154,
   "metadata": {},
   "outputs": [
    {
     "data": {
      "text/plain": [
       "array([ 0,  1,  2,  3,  4,  5,  6,  7,  8,  9, 10, 11])"
      ]
     },
     "execution_count": 154,
     "metadata": {},
     "output_type": "execute_result"
    }
   ],
   "source": [
    "a=a.reshape(2,-1,2)\n",
    "a.shape\n",
    "\n",
    "# 1차원 데이터를 다른 차원으로 변환할 때는 reshape 함수를 쓴다\n",
    "# flatten : 다른(n) 차원을 1차원으로 변환하는 함수(평평하게 해서 1차원이 된다)\n",
    "a.flatten()"
   ]
  },
  {
   "cell_type": "code",
   "execution_count": 155,
   "metadata": {},
   "outputs": [
    {
     "data": {
      "text/plain": [
       "array([ 0,  1,  2,  3,  4,  5,  6,  7,  8,  9, 10, 11])"
      ]
     },
     "execution_count": 155,
     "metadata": {},
     "output_type": "execute_result"
    }
   ],
   "source": [
    "a.ravel()\n",
    "# revel : 3차원을 1차원으로 만들어주는 함수"
   ]
  },
  {
   "cell_type": "code",
   "execution_count": 156,
   "metadata": {},
   "outputs": [
    {
     "data": {
      "text/plain": [
       "array([0, 1, 2, 3, 4])"
      ]
     },
     "execution_count": 156,
     "metadata": {},
     "output_type": "execute_result"
    }
   ],
   "source": [
    "x=np.arange(5)\n",
    "x # 1차원"
   ]
  },
  {
   "cell_type": "code",
   "execution_count": 163,
   "metadata": {},
   "outputs": [
    {
     "data": {
      "text/plain": [
       "array([0, 1, 2, 3, 4])"
      ]
     },
     "execution_count": 163,
     "metadata": {},
     "output_type": "execute_result"
    }
   ],
   "source": [
    "x.reshape(1,5) # 대괄호 개수로 차원 구별, 2개 있으므로 1행 5열의 2차원 행렬\n",
    "# 주의 : 위의 수식과 결과값은 같으나, 자료형 상이!!!!\n",
    "\n",
    "x.flatten() # 1차원으로 다시 만들어줘야 동일"
   ]
  },
  {
   "cell_type": "code",
   "execution_count": 160,
   "metadata": {},
   "outputs": [
    {
     "data": {
      "text/plain": [
       "(1, 5)"
      ]
     },
     "execution_count": 160,
     "metadata": {},
     "output_type": "execute_result"
    }
   ],
   "source": [
    "x=x.reshape(1,5) # 1행 5열\n",
    "x.shape"
   ]
  },
  {
   "cell_type": "code",
   "execution_count": 162,
   "metadata": {},
   "outputs": [
    {
     "data": {
      "text/plain": [
       "array([[0],\n",
       "       [1],\n",
       "       [2],\n",
       "       [3],\n",
       "       [4]])"
      ]
     },
     "execution_count": 162,
     "metadata": {},
     "output_type": "execute_result"
    }
   ],
   "source": [
    "x=x.reshape(5,1) # 5행 1열\n",
    "x.shape\n",
    "x\n",
    "\n",
    "# 위의 수식과 상이하다"
   ]
  },
  {
   "cell_type": "code",
   "execution_count": 167,
   "metadata": {},
   "outputs": [
    {
     "data": {
      "text/plain": [
       "(5, 1)"
      ]
     },
     "execution_count": 167,
     "metadata": {},
     "output_type": "execute_result"
    }
   ],
   "source": [
    "x=np.arange(5)\n",
    "x=x[:,np.newaxis]\n",
    "x\n",
    "\n",
    "# newaxis : 배열에 대한 차원을 1만큼 증가시킬 때 사용\n",
    "\n",
    "x.shape"
   ]
  },
  {
   "cell_type": "code",
   "execution_count": 168,
   "metadata": {},
   "outputs": [
    {
     "data": {
      "text/plain": [
       "array([[1., 1., 1.],\n",
       "       [1., 1., 1.]])"
      ]
     },
     "execution_count": 168,
     "metadata": {},
     "output_type": "execute_result"
    }
   ],
   "source": [
    "# 배열 간 연결 작업\n",
    "# hstack : 행의 수가 같은 배열을 옆으로 연결(수평방향으로)  ->  열이 증가\n",
    "x1=np.ones((2,3))\n",
    "x1"
   ]
  },
  {
   "cell_type": "code",
   "execution_count": 170,
   "metadata": {},
   "outputs": [
    {
     "data": {
      "text/plain": [
       "array([[0., 0.],\n",
       "       [0., 0.]])"
      ]
     },
     "execution_count": 170,
     "metadata": {},
     "output_type": "execute_result"
    }
   ],
   "source": [
    "x2=np.zeros((2,2))\n",
    "x2"
   ]
  },
  {
   "cell_type": "code",
   "execution_count": 177,
   "metadata": {},
   "outputs": [
    {
     "data": {
      "text/plain": [
       "array([[0., 0.],\n",
       "       [0., 0.],\n",
       "       [0., 0.]])"
      ]
     },
     "execution_count": 177,
     "metadata": {},
     "output_type": "execute_result"
    }
   ],
   "source": [
    "# x1와 x2를 합치고 싶을 때(2행 5열로)\n",
    "np.hstack([x2,x1]) # x2를 기준으로 우측에 x1이 연결\n",
    "np.hstack([x1,x2]) # x1를 기준으로 우측에 x2이 연결\n",
    "\n",
    "\n",
    "x3=np.zeros((3,2))\n",
    "x3"
   ]
  },
  {
   "cell_type": "code",
   "execution_count": 178,
   "metadata": {},
   "outputs": [],
   "source": [
    "# np.hstack([x1,x3]) # 크기가 맞기 않기 때문에 에러"
   ]
  },
  {
   "cell_type": "code",
   "execution_count": 175,
   "metadata": {},
   "outputs": [
    {
     "data": {
      "text/plain": [
       "array([[1., 1., 1.],\n",
       "       [1., 1., 1.],\n",
       "       [0., 0., 0.],\n",
       "       [0., 0., 0.],\n",
       "       [0., 0., 0.]])"
      ]
     },
     "execution_count": 175,
     "metadata": {},
     "output_type": "execute_result"
    }
   ],
   "source": [
    "# vstack : 위, 아래 배열을 연결(수직방향으로) -> 행이 증가\n",
    "y1=np.ones((2,3))\n",
    "y2=np.zeros((3,3))\n",
    "np.vstack([y1,y2])"
   ]
  },
  {
   "cell_type": "code",
   "execution_count": null,
   "metadata": {},
   "outputs": [],
   "source": []
  }
 ],
 "metadata": {
  "kernelspec": {
   "display_name": "Python 3",
   "language": "python",
   "name": "python3"
  },
  "language_info": {
   "codemirror_mode": {
    "name": "ipython",
    "version": 3
   },
   "file_extension": ".py",
   "mimetype": "text/x-python",
   "name": "python",
   "nbconvert_exporter": "python",
   "pygments_lexer": "ipython3",
   "version": "3.6.5"
  }
 },
 "nbformat": 4,
 "nbformat_minor": 2
}
